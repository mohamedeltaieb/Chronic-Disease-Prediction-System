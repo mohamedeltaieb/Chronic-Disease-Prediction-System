{
  "cells": [
    {
      "cell_type": "code",
      "execution_count": 1,
      "metadata": {
        "id": "AKCrm2c737DL"
      },
      "outputs": [],
      "source": [
        "import pandas as pd\n",
        "import numpy as np\n",
        "from sklearn.svm import SVC\n",
        "from sklearn.ensemble import RandomForestClassifier\n",
        "from sklearn.linear_model import LogisticRegression\n",
        "from sklearn.neighbors import KNeighborsClassifier\n",
        "from xgboost import XGBClassifier\n",
        "#from catboost import CatBoostClassifier\n",
        "from tensorflow import keras\n",
        "from tensorflow.keras.models import Sequential\n",
        "from tensorflow.keras.layers import Dense, Dropout\n",
        "from sklearn.metrics import accuracy_score, classification_report\n",
        "from sklearn.model_selection import train_test_split, GridSearchCV\n",
        "from sklearn.preprocessing import StandardScaler\n",
        "from xgboost import XGBClassifier\n",
        "from imblearn.over_sampling import SMOTE"
      ]
    },
    {
      "cell_type": "code",
      "execution_count": 2,
      "metadata": {
        "colab": {
          "base_uri": "https://localhost:8080/"
        },
        "id": "d8VsMfQd4r7A",
        "outputId": "112eeaf2-5ec9-464f-b57a-0cce1e9ee6e4"
      },
      "outputs": [
        {
          "name": "stderr",
          "output_type": "stream",
          "text": [
            "c:\\Users\\Office\\AppData\\Local\\Programs\\Python\\Python311\\Lib\\site-packages\\tqdm\\auto.py:21: TqdmWarning: IProgress not found. Please update jupyter and ipywidgets. See https://ipywidgets.readthedocs.io/en/stable/user_install.html\n",
            "  from .autonotebook import tqdm as notebook_tqdm\n"
          ]
        },
        {
          "name": "stdout",
          "output_type": "stream",
          "text": [
            "Warning: Looks like you're using an outdated `kagglehub` version (installed: 0.3.6), please consider upgrading to the latest version (0.3.12).\n",
            "Downloading from https://www.kaggle.com/api/v1/datasets/download/rabieelkharoua/predict-liver-disease-1700-records-dataset?dataset_version_number=1...\n"
          ]
        },
        {
          "name": "stderr",
          "output_type": "stream",
          "text": [
            "100%|██████████| 69.6k/69.6k [00:00<00:00, 365kB/s]"
          ]
        },
        {
          "name": "stdout",
          "output_type": "stream",
          "text": [
            "Extracting files...\n",
            "Path to dataset files: C:\\Users\\Office\\.cache\\kagglehub\\datasets\\rabieelkharoua\\predict-liver-disease-1700-records-dataset\\versions\\1\n"
          ]
        },
        {
          "name": "stderr",
          "output_type": "stream",
          "text": [
            "\n"
          ]
        }
      ],
      "source": [
        "import kagglehub\n",
        "\n",
        "# Download latest version\n",
        "path = kagglehub.dataset_download(\"rabieelkharoua/predict-liver-disease-1700-records-dataset\")\n",
        "\n",
        "print(\"Path to dataset files:\", path)"
      ]
    },
    {
      "cell_type": "code",
      "execution_count": 3,
      "metadata": {
        "colab": {
          "base_uri": "https://localhost:8080/"
        },
        "id": "h1KsCa-c4xcH",
        "outputId": "48fb51af-65d3-4389-fd24-2406cb09d131"
      },
      "outputs": [
        {
          "name": "stdout",
          "output_type": "stream",
          "text": [
            "Age                   0\n",
            "Gender                0\n",
            "BMI                   0\n",
            "AlcoholConsumption    0\n",
            "Smoking               0\n",
            "GeneticRisk           0\n",
            "PhysicalActivity      0\n",
            "Diabetes              0\n",
            "Hypertension          0\n",
            "LiverFunctionTest     0\n",
            "Diagnosis             0\n",
            "dtype: int64\n"
          ]
        }
      ],
      "source": [
        "df = pd.read_csv(path + \"/Liver_disease_data.csv\")\n",
        "\n",
        "# Check for missing values\n",
        "print(df.isnull().sum())\n"
      ]
    },
    {
      "cell_type": "code",
      "execution_count": 4,
      "metadata": {
        "id": "uGe22MrD5IkO"
      },
      "outputs": [],
      "source": [
        "# Check for duplicates\n",
        "df = df.drop_duplicates()"
      ]
    },
    {
      "cell_type": "code",
      "execution_count": 5,
      "metadata": {
        "colab": {
          "base_uri": "https://localhost:8080/"
        },
        "id": "9kteGxAj4zMi",
        "outputId": "5f160195-7ac5-432f-9bfb-39992a524101"
      },
      "outputs": [
        {
          "name": "stdout",
          "output_type": "stream",
          "text": [
            "Index(['Age', 'Gender', 'BMI', 'AlcoholConsumption', 'Smoking', 'GeneticRisk',\n",
            "       'PhysicalActivity', 'Diabetes', 'Hypertension', 'LiverFunctionTest',\n",
            "       'Diagnosis'],\n",
            "      dtype='object')\n"
          ]
        }
      ],
      "source": [
        "skewed_features = ['Diabetes', 'Hypertension', 'Smoking']\n",
        "# Print the actual column names in your DataFrame\n",
        "print(df.columns)\n",
        "\n",
        "# Check if the columns in skewed_features exist in the DataFrame\n",
        "for col in skewed_features:\n",
        "    if col not in df.columns:\n",
        "        print(f\"Column '{col}' not found in DataFrame\")\n",
        "        # Handle the missing column: either skip, rename, or create a new one\n",
        "\n",
        "# Apply log1p to normalize skewed features\n",
        "for col in skewed_features:\n",
        "    if col in df.columns: # Only process if the column exists\n",
        "        df[col] = np.log1p(df[col])\n",
        "\n",
        "# Outlier removal using IQR method\n",
        "Q1 = df[skewed_features].quantile(0.25)\n",
        "Q3 = df[skewed_features].quantile(0.75)\n",
        "IQR = Q3 - Q1\n",
        "\n",
        "# Filter the DataFrame to remove outliers\n",
        "mask = ~((df[skewed_features] < (Q1 - 1.5 * IQR)) | (df[skewed_features] > (Q3 + 1.5 * IQR))).any(axis=1)\n",
        "df = df[mask]"
      ]
    },
    {
      "cell_type": "code",
      "execution_count": 6,
      "metadata": {
        "id": "9NEVMe6M41Ms"
      },
      "outputs": [],
      "source": [
        "X = df.drop(\"Diagnosis\", axis=1)\n",
        "y = df[\"Diagnosis\"]\n",
        "\n",
        "# Train-test split (80-20)\n",
        "X_train, X_test, y_train, y_test = train_test_split(X, y, test_size=0.2, random_state=42, stratify=y)\n",
        "\n",
        "# Scale the features\n",
        "scaler = StandardScaler()\n",
        "X_train_scaled = scaler.fit_transform(X_train)\n",
        "X_test_scaled = scaler.transform(X_test)\n"
      ]
    },
    {
      "cell_type": "code",
      "execution_count": 7,
      "metadata": {
        "colab": {
          "base_uri": "https://localhost:8080/"
        },
        "id": "aFg7V5Pz42us",
        "outputId": "66bb5abf-56d0-40b4-eacd-6c7f4dd4fdd2"
      },
      "outputs": [
        {
          "name": "stdout",
          "output_type": "stream",
          "text": [
            "AlcoholConsumption    0.237373\n",
            "LiverFunctionTest     0.216812\n",
            "BMI                   0.129906\n",
            "Age                   0.124268\n",
            "PhysicalActivity      0.111110\n",
            "GeneticRisk           0.078231\n",
            "Gender                0.053539\n",
            "Smoking               0.048762\n",
            "Diabetes              0.000000\n",
            "Hypertension          0.000000\n",
            "dtype: float64\n"
          ]
        }
      ],
      "source": [
        "from sklearn.ensemble import ExtraTreesClassifier\n",
        "\n",
        "# Feature importance with ExtraTrees\n",
        "model = ExtraTreesClassifier()\n",
        "model.fit(X_train, y_train)\n",
        "\n",
        "# Sort by importance\n",
        "feature_importances = pd.Series(model.feature_importances_, index=X.columns).sort_values(ascending=False)\n",
        "print(feature_importances)\n",
        "\n",
        "# Remove least important features\n",
        "important_features = feature_importances[feature_importances > 0.01].index  # Keep important ones\n",
        "X_train_selected = X_train[important_features]\n",
        "X_test_selected = X_test[important_features]\n"
      ]
    },
    {
      "cell_type": "code",
      "execution_count": 8,
      "metadata": {},
      "outputs": [
        {
          "data": {
            "text/plain": [
              "Index(['AlcoholConsumption', 'LiverFunctionTest', 'BMI', 'Age',\n",
              "       'PhysicalActivity', 'GeneticRisk', 'Gender', 'Smoking'],\n",
              "      dtype='object')"
            ]
          },
          "execution_count": 8,
          "metadata": {},
          "output_type": "execute_result"
        }
      ],
      "source": [
        "important_features"
      ]
    },
    {
      "cell_type": "code",
      "execution_count": 8,
      "metadata": {
        "id": "MFkEfSJC44j_"
      },
      "outputs": [],
      "source": [
        "smote = SMOTE(random_state=42)\n",
        "X_bal, y_bal = smote.fit_resample(X_train_selected, y_train)"
      ]
    },
    {
      "cell_type": "code",
      "execution_count": 9,
      "metadata": {
        "colab": {
          "base_uri": "https://localhost:8080/"
        },
        "id": "lTkBxw5746Xk",
        "outputId": "cf80ab10-4859-4b33-b77a-212d3a9fa40e"
      },
      "outputs": [
        {
          "name": "stdout",
          "output_type": "stream",
          "text": [
            "XGBoost:\n",
            "               precision    recall  f1-score   support\n",
            "\n",
            "           0       0.95      0.98      0.96       127\n",
            "           1       0.97      0.95      0.96       122\n",
            "\n",
            "    accuracy                           0.96       249\n",
            "   macro avg       0.96      0.96      0.96       249\n",
            "weighted avg       0.96      0.96      0.96       249\n",
            "\n"
          ]
        },
        {
          "name": "stderr",
          "output_type": "stream",
          "text": [
            "/usr/local/lib/python3.11/dist-packages/xgboost/core.py:158: UserWarning: [17:44:03] WARNING: /workspace/src/learner.cc:740: \n",
            "Parameters: { \"use_label_encoder\" } are not used.\n",
            "\n",
            "  warnings.warn(smsg, UserWarning)\n"
          ]
        }
      ],
      "source": [
        "xgb = XGBClassifier(use_label_encoder=False,\n",
        "    eval_metric='logloss',\n",
        "    random_state=42,\n",
        "    colsample_bytree=0.6,\n",
        "    gamma=0.2,\n",
        "    learning_rate=0.1,\n",
        "    max_depth=3,\n",
        "    n_estimators=100,\n",
        "    reg_alpha=0.1,\n",
        "    reg_lambda=2,\n",
        "    subsample=1,\n",
        "    min_child_weight=5,\n",
        "                    )\n",
        "xgb.fit(X_bal, y_bal)\n",
        "y_pred_xgb = xgb.predict(X_test_selected)\n",
        "\n",
        "print(\"XGBoost:\\n\", classification_report(y_test, y_pred_xgb))"
      ]
    },
    {
      "cell_type": "code",
      "execution_count": 35,
      "metadata": {
        "colab": {
          "base_uri": "https://localhost:8080/"
        },
        "id": "79fPTeDW48C0",
        "outputId": "153875cf-86bd-4f1d-899e-d81730104ab9"
      },
      "outputs": [
        {
          "name": "stdout",
          "output_type": "stream",
          "text": [
            "Starting grid search...\n",
            "Fitting 3 folds for each of 19683 candidates, totalling 59049 fits\n",
            "\n",
            "Best parameters found:\n",
            "{'colsample_bytree': 0.6, 'gamma': 0.2, 'learning_rate': 0.1, 'max_depth': 3, 'min_child_weight': 5, 'n_estimators': 100, 'reg_alpha': 0.1, 'reg_lambda': 2.0, 'subsample': 1.0}\n"
          ]
        },
        {
          "name": "stderr",
          "output_type": "stream",
          "text": [
            "/usr/local/lib/python3.11/dist-packages/xgboost/core.py:158: UserWarning: [07:39:05] WARNING: /workspace/src/learner.cc:740: \n",
            "Parameters: { \"use_label_encoder\" } are not used.\n",
            "\n",
            "  warnings.warn(smsg, UserWarning)\n"
          ]
        }
      ],
      "source": [
        "from sklearn.model_selection import GridSearchCV\n",
        "from sklearn.metrics import make_scorer, f1_score\n",
        "from sklearn.model_selection import StratifiedKFold\n",
        "# Define the parameter grid\n",
        "param_grid = {\n",
        "    'n_estimators': [100, 150, 200],\n",
        "    'max_depth': [3, 5, 7],\n",
        "    'learning_rate': [0.01, 0.05, 0.1],\n",
        "    'subsample': [0.6, 0.8, 1.0],\n",
        "    'colsample_bytree': [0.6, 0.8, 1.0],\n",
        "    'gamma': [0, 0.1, 0.2],\n",
        "    'reg_alpha': [0, 0.1, 0.5],\n",
        "    'reg_lambda': [0.5, 1.0, 2.0],\n",
        "    'min_child_weight': [1, 3, 5]\n",
        "}\n",
        "\n",
        "# Create the XGBoost model\n",
        "xgb = XGBClassifier(\n",
        "    objective='binary:logistic',\n",
        "    eval_metric='logloss',\n",
        "    use_label_encoder=False,\n",
        "    random_state=42\n",
        ")\n",
        "\n",
        "# Create a custom scorer (F1 score is often good for imbalanced datasets)\n",
        "scorer = make_scorer(f1_score, average='weighted')\n",
        "\n",
        "# Set up the grid search\n",
        "grid_search = GridSearchCV(\n",
        "    estimator=xgb,\n",
        "    param_grid=param_grid,\n",
        "    scoring=scorer,\n",
        "    cv=StratifiedKFold(3),  # Using stratified KFold for imbalanced data\n",
        "    n_jobs=-1,  # Use all available cores\n",
        "    verbose=2  # Show progress\n",
        ")\n",
        "\n",
        "# Run the grid search\n",
        "print(\"Starting grid search...\")\n",
        "grid_search.fit(X_bal, y_bal)\n",
        "\n",
        "# Print the best parameters and score\n",
        "print(\"\\nBest parameters found:\")\n",
        "print(grid_search.best_params_)"
      ]
    },
    {
      "cell_type": "code",
      "execution_count": 10,
      "metadata": {
        "colab": {
          "base_uri": "https://localhost:8080/"
        },
        "id": "HeqmgOdhZfk8",
        "outputId": "e9c83fe1-c430-460f-c9d4-3573228ad234"
      },
      "outputs": [
        {
          "name": "stdout",
          "output_type": "stream",
          "text": [
            "Mounted at /content/drive\n",
            "Model saved successfully to /content/drive/My Drive/GP/Liver disease/new_xgboost_model.pkl\n"
          ]
        }
      ],
      "source": [
        "# prompt: I need to save this model by pikle in drive in folder called\"GP\" and create a folder called \"Diabetes\" and save it in it\n",
        "\n",
        "import pickle\n",
        "from google.colab import drive\n",
        "import os\n",
        "\n",
        "# Mount Google Drive\n",
        "drive.mount('/content/drive')\n",
        "\n",
        "# Define the path to save the model\n",
        "model_folder_path = '/content/drive/My Drive/GP/Liver disease'\n",
        "model_file_path = os.path.join(model_folder_path, 'new_xgboost_model.pkl')\n",
        "\n",
        "# Create the directories if they don't exist\n",
        "os.makedirs(model_folder_path, exist_ok=True)\n",
        "\n",
        "# Save the trained model using pickle\n",
        "with open(model_file_path, 'wb') as file:\n",
        "    pickle.dump(xgb, file)\n",
        "\n",
        "print(f\"Model saved successfully to {model_file_path}\")"
      ]
    }
  ],
  "metadata": {
    "colab": {
      "provenance": []
    },
    "kernelspec": {
      "display_name": "Python 3",
      "name": "python3"
    },
    "language_info": {
      "codemirror_mode": {
        "name": "ipython",
        "version": 3
      },
      "file_extension": ".py",
      "mimetype": "text/x-python",
      "name": "python",
      "nbconvert_exporter": "python",
      "pygments_lexer": "ipython3",
      "version": "3.11.5"
    }
  },
  "nbformat": 4,
  "nbformat_minor": 0
}
